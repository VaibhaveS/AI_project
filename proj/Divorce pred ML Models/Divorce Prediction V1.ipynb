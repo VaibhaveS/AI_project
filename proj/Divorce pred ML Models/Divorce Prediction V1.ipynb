{
 "cells": [
  {
   "cell_type": "code",
   "execution_count": 122,
   "id": "60c16838",
   "metadata": {},
   "outputs": [],
   "source": [
    "from sklearn.datasets import make_classification\n",
    "from sklearn.feature_selection import SelectKBest\n",
    "from sklearn.feature_selection import chi2\n",
    "from sklearn.feature_selection import SelectKBest, f_classif\n",
    "from sklearn.preprocessing import MinMaxScaler\n",
    "from sklearn.model_selection import GridSearchCV\n",
    "from sklearn.metrics import classification_report, confusion_matrix\n",
    "from sklearn.metrics import confusion_matrix\n",
    "from sklearn.metrics import precision_score, recall_score, f1_score, accuracy_score\n",
    "from sklearn.model_selection import train_test_split\n",
    "from sklearn.metrics import f1_score\n",
    "import pandas as pd\n",
    "df = pd.read_csv(\"divorce.csv\", sep = ';')\n",
    "X,Y=df.iloc[0:,0:54],df.iloc[0:,-1]\n",
    "X_train,X_test,y_train,y_test=train_test_split(X,Y,test_size=0.30,random_state=42)"
   ]
  },
  {
   "cell_type": "code",
   "execution_count": 123,
   "id": "8aeeb0a0",
   "metadata": {},
   "outputs": [
    {
     "name": "stdout",
     "output_type": "stream",
     "text": [
      "   attribute        score\n",
      "39     Atr40  1012.701450\n",
      "37     Atr38   724.894770\n",
      "18     Atr19   674.636222\n",
      "16     Atr17   669.497861\n",
      "17     Atr18   559.220516\n",
      "8       Atr9   549.381773\n",
      "19     Atr20   538.206177\n",
      "14     Atr15   533.096916\n",
      "35     Atr36   509.430982\n",
      "10     Atr11   508.259151\n"
     ]
    }
   ],
   "source": [
    "#Using ANOVA for feature selection\n",
    "bestatt=SelectKBest(score_func=f_classif,k=10)\n",
    "afit=bestatt.fit(X_train,y_train)\n",
    "scrs=pd.DataFrame(afit.scores_)\n",
    "cols=pd.DataFrame(X.columns)\n",
    "chart=pd.concat([cols,scrs],axis=1)\n",
    "chart.columns=['attribute','score']\n",
    "print(chart.nlargest(10,'score'))"
   ]
  },
  {
   "cell_type": "code",
   "execution_count": 124,
   "id": "2d5f407e",
   "metadata": {},
   "outputs": [],
   "source": [
    "X_train=bestatt.fit_transform(X_train,y_train)\n",
    "X_test=bestatt.fit_transform(X_test,y_test)"
   ]
  },
  {
   "cell_type": "code",
   "execution_count": 125,
   "id": "46d77394",
   "metadata": {},
   "outputs": [
    {
     "data": {
      "text/plain": [
       "(119, 10)"
      ]
     },
     "execution_count": 125,
     "metadata": {},
     "output_type": "execute_result"
    }
   ],
   "source": [
    "X_train.shape"
   ]
  },
  {
   "cell_type": "code",
   "execution_count": 126,
   "id": "40be77c0",
   "metadata": {},
   "outputs": [
    {
     "data": {
      "text/plain": [
       "(51, 10)"
      ]
     },
     "execution_count": 126,
     "metadata": {},
     "output_type": "execute_result"
    }
   ],
   "source": [
    "X_test.shape"
   ]
  },
  {
   "cell_type": "code",
   "execution_count": 127,
   "id": "c983ed86",
   "metadata": {},
   "outputs": [
    {
     "name": "stdout",
     "output_type": "stream",
     "text": [
      "Kernel-rbf\n",
      "Accuracy:0.8431372549019608\n",
      "\n",
      "Kernel-linear\n",
      "Accuracy:1.0\n",
      "\n",
      "Kernel-poly\n",
      "Accuracy:1.0\n",
      "\n"
     ]
    }
   ],
   "source": [
    "models={} \n",
    "# Accuracy, F1-Score, Precision, Recall\n",
    "# 1. Implementing SVM\n",
    "from sklearn.svm import SVC\n",
    "kernels=['rbf','linear','poly']\n",
    "models['svm']={}\n",
    "for kernel in kernels:\n",
    "    t=[]\n",
    "    svmclf=SVC(kernel=kernel,gamma=2)\n",
    "    svmclf.fit(X_train,y_train)\n",
    "    print(\"Kernel-\"+kernel)\n",
    "    pred=svmclf.predict(X_test)\n",
    "    print(\"Accuracy:\",end='')\n",
    "    print(accuracy_score(pred,y_test))\n",
    "    t.append(accuracy_score(pred,y_test))\n",
    "    t.append(f1_score(pred,y_test))\n",
    "    t.append(precision_score(pred,y_test))\n",
    "    t.append(recall_score(pred,y_test))    \n",
    "    models['svm'][kernel]=t\n",
    "    print()\n"
   ]
  },
  {
   "cell_type": "code",
   "execution_count": 128,
   "id": "671efbc9",
   "metadata": {},
   "outputs": [],
   "source": [
    "# 2. Naive Bayes algorithm"
   ]
  },
  {
   "cell_type": "code",
   "execution_count": 129,
   "id": "d0c2030b",
   "metadata": {},
   "outputs": [
    {
     "name": "stdout",
     "output_type": "stream",
     "text": [
      "GaussianNB()\n",
      "Accuracy:1.0\n",
      "\n",
      "MultinomialNB()\n",
      "Accuracy:0.9411764705882353\n",
      "\n",
      "BernoulliNB()\n",
      "Accuracy:1.0\n",
      "\n",
      "{'svm': {'rbf': [0.8431372549019608, 0.8666666666666666, 1.0, 0.7647058823529411], 'linear': [1.0, 1.0, 1.0, 1.0], 'poly': [1.0, 1.0, 1.0, 1.0]}, 'nb': {GaussianNB(): [1.0, 1.0, 1.0, 1.0], MultinomialNB(): [0.9411764705882353, 0.9433962264150944, 0.9615384615384616, 0.9259259259259259], BernoulliNB(): [1.0, 1.0, 1.0, 1.0]}}\n"
     ]
    }
   ],
   "source": [
    "from sklearn.naive_bayes import GaussianNB,MultinomialNB,BernoulliNB\n",
    "nbs=[GaussianNB(),MultinomialNB(),BernoulliNB()]\n",
    "models['nb']={}\n",
    "for nb in nbs:\n",
    "    t=[]\n",
    "    nbclf=nb\n",
    "    nbclf.fit(X_train,y_train)\n",
    "    pred=nbclf.predict(X_test)\n",
    "    print(nb)\n",
    "    print(\"Accuracy:\",end='')\n",
    "    print(accuracy_score(pred,y_test))\n",
    "    t.append(accuracy_score(pred,y_test))\n",
    "    t.append(f1_score(pred,y_test))\n",
    "    t.append(precision_score(pred,y_test))\n",
    "    t.append(recall_score(pred,y_test))    \n",
    "    models['nb'][nb]=t\n",
    "    print()  \n",
    "print(models)"
   ]
  },
  {
   "cell_type": "code",
   "execution_count": 130,
   "id": "9c42349c",
   "metadata": {},
   "outputs": [],
   "source": [
    "# 3. Random Forest"
   ]
  },
  {
   "cell_type": "code",
   "execution_count": 131,
   "id": "218d51f5",
   "metadata": {},
   "outputs": [
    {
     "name": "stdout",
     "output_type": "stream",
     "text": [
      "RandomForestClassifier()\n",
      "Accuracy:1.0\n"
     ]
    }
   ],
   "source": [
    "from sklearn.ensemble import RandomForestClassifier\n",
    "rfclf=RandomForestClassifier()\n",
    "rfclf.fit(X_train,y_train)\n",
    "pred=rfclf.predict(X_test)\n",
    "t=[]\n",
    "models['rf']={}\n",
    "print(rfclf)\n",
    "print(\"Accuracy:\",end='')\n",
    "print(accuracy_score(pred,y_test))\n",
    "t.append(accuracy_score(pred,y_test))\n",
    "t.append(f1_score(pred,y_test))\n",
    "t.append(precision_score(pred,y_test))\n",
    "t.append(recall_score(pred,y_test))    \n",
    "models['rf'][kernel]=t\n"
   ]
  },
  {
   "cell_type": "code",
   "execution_count": 132,
   "id": "01348c9c",
   "metadata": {},
   "outputs": [],
   "source": [
    "# 4. AdaBoost"
   ]
  },
  {
   "cell_type": "code",
   "execution_count": 133,
   "id": "72e56305",
   "metadata": {},
   "outputs": [
    {
     "name": "stdout",
     "output_type": "stream",
     "text": [
      "AdaBoostClassifier()\n",
      "Accuracy:1.0\n"
     ]
    }
   ],
   "source": [
    "from sklearn.ensemble import AdaBoostClassifier\n",
    "abclf=AdaBoostClassifier()\n",
    "abclf.fit(X_train,y_train)\n",
    "pred=abclf.predict(X_test)\n",
    "t=[]\n",
    "models['ab']={}\n",
    "print(abclf)\n",
    "print(\"Accuracy:\",end='')\n",
    "print(accuracy_score(pred,y_test))\n",
    "t.append(accuracy_score(pred,y_test))\n",
    "t.append(f1_score(pred,y_test))\n",
    "t.append(precision_score(pred,y_test))\n",
    "t.append(recall_score(pred,y_test))    \n",
    "models['ab'][kernel]=t\n"
   ]
  },
  {
   "cell_type": "code",
   "execution_count": 134,
   "id": "36933216",
   "metadata": {},
   "outputs": [
    {
     "name": "stdout",
     "output_type": "stream",
     "text": [
      "Format: Accuracy Score, F1 Score, Precision Score and Recall\n",
      "\n",
      "svm\n",
      "{'rbf': [0.8431372549019608, 0.8666666666666666, 1.0, 0.7647058823529411], 'linear': [1.0, 1.0, 1.0, 1.0], 'poly': [1.0, 1.0, 1.0, 1.0]}\n",
      "\n",
      "nb\n",
      "{GaussianNB(): [1.0, 1.0, 1.0, 1.0], MultinomialNB(): [0.9411764705882353, 0.9433962264150944, 0.9615384615384616, 0.9259259259259259], BernoulliNB(): [1.0, 1.0, 1.0, 1.0]}\n",
      "\n",
      "rf\n",
      "{'poly': [1.0, 1.0, 1.0, 1.0]}\n",
      "\n",
      "ab\n",
      "{'poly': [1.0, 1.0, 1.0, 1.0]}\n",
      "\n"
     ]
    }
   ],
   "source": [
    "print(\"Format: Accuracy Score, F1 Score, Precision Score and Recall\\n\")\n",
    "for k,v in models.items():\n",
    "    print(k)\n",
    "    print(v)\n",
    "    print()"
   ]
  },
  {
   "cell_type": "code",
   "execution_count": 135,
   "id": "0ff2f8b3",
   "metadata": {},
   "outputs": [],
   "source": [
    "import pickle\n",
    "with open('rfclf', 'wb') as files:\n",
    "    pickle.dump(rfclf, files)"
   ]
  },
  {
   "cell_type": "code",
   "execution_count": 146,
   "id": "a0b609fd",
   "metadata": {},
   "outputs": [],
   "source": [
    "from sklearn.ensemble import RandomForestClassifier\n",
    "model=RandomForestClassifier()\n",
    "def train_model(train, test, fold_no,mx):\n",
    "    X_train = train.iloc[0:,0:54]\n",
    "    y_train = train.iloc[0:,-1]\n",
    "    X_test = test.iloc[0:,0:54]\n",
    "    y_test = test.iloc[0:,-1]\n",
    "    model.fit(X_train,y_train)\n",
    "    predictions = model.predict(X_test)\n",
    "    macc=accuracy_score(y_test,predictions)\n",
    "    print('Fold',str(fold_no),'Accuracy:',macc)\n",
    "    if(macc>=mx):\n",
    "        mx=macc\n",
    "        with open('cross_rf', 'wb') as files:\n",
    "            pickle.dump(rfclf, files)\n",
    "        "
   ]
  },
  {
   "cell_type": "code",
   "execution_count": 147,
   "id": "1a646a6a",
   "metadata": {},
   "outputs": [
    {
     "name": "stdout",
     "output_type": "stream",
     "text": [
      "Fold 1 Accuracy: 0.8823529411764706\n",
      "Fold 2 Accuracy: 1.0\n",
      "Fold 3 Accuracy: 1.0\n",
      "Fold 4 Accuracy: 1.0\n",
      "Fold 5 Accuracy: 1.0\n"
     ]
    }
   ],
   "source": [
    "from sklearn.model_selection import StratifiedKFold\n",
    "skf = StratifiedKFold(n_splits=5)\n",
    "fold_no = 1\n",
    "mx=0\n",
    "for train_index, test_index in skf.split(X,Y):\n",
    "    train = df.loc[train_index,:]\n",
    "    test = df.loc[test_index,:]\n",
    "    #print('Fold',str(fold_no),'Class Ratio:',sum(test['Returned_Units'])/len(test['Returned_Units']))\n",
    "    train_model(train,test,fold_no,mx)\n",
    "    fold_no += 1"
   ]
  }
 ],
 "metadata": {
  "kernelspec": {
   "display_name": "Python 3 (ipykernel)",
   "language": "python",
   "name": "python3"
  },
  "language_info": {
   "codemirror_mode": {
    "name": "ipython",
    "version": 3
   },
   "file_extension": ".py",
   "mimetype": "text/x-python",
   "name": "python",
   "nbconvert_exporter": "python",
   "pygments_lexer": "ipython3",
   "version": "3.10.2"
  }
 },
 "nbformat": 4,
 "nbformat_minor": 5
}
